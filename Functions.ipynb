{
  "nbformat": 4,
  "nbformat_minor": 0,
  "metadata": {
    "colab": {
      "name": "Functions.ipynb",
      "provenance": [],
      "collapsed_sections": [
        "6zA5SCS7Vchf"
      ],
      "authorship_tag": "ABX9TyM6s8vgttRtxkYupQtdlqzf",
      "include_colab_link": true
    },
    "kernelspec": {
      "name": "python3",
      "display_name": "Python 3"
    },
    "language_info": {
      "name": "python"
    }
  },
  "cells": [
    {
      "cell_type": "markdown",
      "metadata": {
        "id": "view-in-github",
        "colab_type": "text"
      },
      "source": [
        "<a href=\"https://colab.research.google.com/github/tsaifeitingTaiwan/python-functions-9/blob/main/Functions.ipynb\" target=\"_parent\"><img src=\"https://colab.research.google.com/assets/colab-badge.svg\" alt=\"Open In Colab\"/></a>"
      ]
    },
    {
      "cell_type": "markdown",
      "metadata": {
        "id": "tc0zqqzhTMYZ"
      },
      "source": [
        "#Function\n"
      ]
    },
    {
      "cell_type": "markdown",
      "metadata": {
        "id": "6zA5SCS7Vchf"
      },
      "source": [
        "### Functions Overview\n"
      ]
    },
    {
      "cell_type": "markdown",
      "metadata": {
        "id": "i3LBAQuAVSV2"
      },
      "source": [
        "This is an exploration of Function\n",
        "\n",
        "![functions-overview](https://user-images.githubusercontent.com/56904169/133707902-eb85f3e6-bba4-4613-827f-f9e74dc28e3b.png)\n"
      ]
    },
    {
      "cell_type": "markdown",
      "metadata": {
        "id": "xM5pLAROVh5S"
      },
      "source": [
        "## Getting started with Functions\n"
      ]
    },
    {
      "cell_type": "code",
      "metadata": {
        "id": "g2ojQDCSV8Ef"
      },
      "source": [
        "def myfunc():pass #this does nothing\n"
      ],
      "execution_count": 2,
      "outputs": []
    },
    {
      "cell_type": "code",
      "metadata": {
        "colab": {
          "base_uri": "https://localhost:8080/"
        },
        "id": "QdOzEcB4WYfw",
        "outputId": "6a14b787-104e-4dd5-d784-24f3711654fd"
      },
      "source": [
        "type(myfunc)"
      ],
      "execution_count": 3,
      "outputs": [
        {
          "output_type": "execute_result",
          "data": {
            "text/plain": [
              "function"
            ]
          },
          "metadata": {},
          "execution_count": 3
        }
      ]
    },
    {
      "cell_type": "markdown",
      "metadata": {
        "id": "FlokMVlAW0Dm"
      },
      "source": [
        "####Function that takes input\n"
      ]
    },
    {
      "cell_type": "code",
      "metadata": {
        "id": "VweFFM2tV-2h"
      },
      "source": [
        "def accept(x):\n",
        "  print(f\"This was passed in: {x}\")"
      ],
      "execution_count": 4,
      "outputs": []
    },
    {
      "cell_type": "code",
      "metadata": {
        "colab": {
          "base_uri": "https://localhost:8080/"
        },
        "id": "75vk6luLWro8",
        "outputId": "6d2d2e8b-d8eb-442f-c2a0-10b112ab4b83"
      },
      "source": [
        "accept(\"Silvia\")"
      ],
      "execution_count": 5,
      "outputs": [
        {
          "output_type": "stream",
          "name": "stdout",
          "text": [
            "This was passed in: Silvia\n"
          ]
        }
      ]
    },
    {
      "cell_type": "code",
      "metadata": {
        "colab": {
          "base_uri": "https://localhost:8080/"
        },
        "id": "NScbot_bWwFE",
        "outputId": "f57bd91b-9ce0-46e5-f261-4bc55ed19797"
      },
      "source": [
        "var = accept(\"hello\")\n",
        "type(var)"
      ],
      "execution_count": 6,
      "outputs": [
        {
          "output_type": "stream",
          "name": "stdout",
          "text": [
            "This was passed in: hello\n"
          ]
        },
        {
          "output_type": "execute_result",
          "data": {
            "text/plain": [
              "NoneType"
            ]
          },
          "metadata": {},
          "execution_count": 6
        }
      ]
    },
    {
      "cell_type": "markdown",
      "metadata": {
        "id": "6ArwOsnnZ0x2"
      },
      "source": [
        "####Function that returns values\n"
      ]
    },
    {
      "cell_type": "code",
      "metadata": {
        "id": "KFQKluS6Z8UD"
      },
      "source": [
        "def more(x):\n",
        "  print(f\"This was passed in : {x}\")\n",
        "  return x+1"
      ],
      "execution_count": 7,
      "outputs": []
    },
    {
      "cell_type": "code",
      "metadata": {
        "colab": {
          "base_uri": "https://localhost:8080/"
        },
        "id": "ei6GYKHDaEth",
        "outputId": "03bd79f8-f80a-4128-e6f3-b1a8f57d3461"
      },
      "source": [
        "more(2)\n"
      ],
      "execution_count": 9,
      "outputs": [
        {
          "output_type": "stream",
          "name": "stdout",
          "text": [
            "This was passed in : 2\n"
          ]
        },
        {
          "output_type": "execute_result",
          "data": {
            "text/plain": [
              "3"
            ]
          },
          "metadata": {},
          "execution_count": 9
        }
      ]
    },
    {
      "cell_type": "code",
      "metadata": {
        "colab": {
          "base_uri": "https://localhost:8080/"
        },
        "id": "_U3iYMdZaGL2",
        "outputId": "0c676496-6edf-4dc2-dd58-3e218140e126"
      },
      "source": [
        "result = more(2)"
      ],
      "execution_count": 10,
      "outputs": [
        {
          "output_type": "stream",
          "name": "stdout",
          "text": [
            "This was passed in : 2\n"
          ]
        }
      ]
    },
    {
      "cell_type": "code",
      "metadata": {
        "colab": {
          "base_uri": "https://localhost:8080/"
        },
        "id": "k4YYdRi4aSHV",
        "outputId": "69e25479-4e31-4f4f-b43e-53bd31db284b"
      },
      "source": [
        "type(result)"
      ],
      "execution_count": 11,
      "outputs": [
        {
          "output_type": "execute_result",
          "data": {
            "text/plain": [
              "int"
            ]
          },
          "metadata": {},
          "execution_count": 11
        }
      ]
    },
    {
      "cell_type": "code",
      "metadata": {
        "colab": {
          "base_uri": "https://localhost:8080/"
        },
        "id": "GC1-hbpEaVch",
        "outputId": "9a2f7c48-ffbf-442c-9f74-46c79b4bd380"
      },
      "source": [
        "result"
      ],
      "execution_count": 12,
      "outputs": [
        {
          "output_type": "execute_result",
          "data": {
            "text/plain": [
              "3"
            ]
          },
          "metadata": {},
          "execution_count": 12
        }
      ]
    },
    {
      "cell_type": "code",
      "metadata": {
        "id": "m1yCC3eRaX6I"
      },
      "source": [
        "def add(x,y):\n",
        "  return x+y"
      ],
      "execution_count": 13,
      "outputs": []
    },
    {
      "cell_type": "code",
      "metadata": {
        "colab": {
          "base_uri": "https://localhost:8080/"
        },
        "id": "jomqWkmzau1f",
        "outputId": "e51653dc-a0dc-4b38-e468-48c57ab8af35"
      },
      "source": [
        "add(1,1)"
      ],
      "execution_count": 14,
      "outputs": [
        {
          "output_type": "execute_result",
          "data": {
            "text/plain": [
              "2"
            ]
          },
          "metadata": {},
          "execution_count": 14
        }
      ]
    },
    {
      "cell_type": "code",
      "metadata": {
        "colab": {
          "base_uri": "https://localhost:8080/"
        },
        "id": "5iMHhodZawrd",
        "outputId": "7bee2f08-9f71-4d8a-f54c-4aeda51117ad"
      },
      "source": [
        "add(2,2)"
      ],
      "execution_count": 15,
      "outputs": [
        {
          "output_type": "execute_result",
          "data": {
            "text/plain": [
              "4"
            ]
          },
          "metadata": {},
          "execution_count": 15
        }
      ]
    },
    {
      "cell_type": "markdown",
      "metadata": {
        "id": "4CDvYZFUbkCU"
      },
      "source": [
        "####Python positional argumenarguments "
      ]
    },
    {
      "cell_type": "code",
      "metadata": {
        "id": "D-9H-jmva0ie"
      },
      "source": [
        "def add_more(x,y):\n",
        "  print(f\"This variable {x} is greater than the other variable {y}\")"
      ],
      "execution_count": 21,
      "outputs": []
    },
    {
      "cell_type": "code",
      "metadata": {
        "colab": {
          "base_uri": "https://localhost:8080/"
        },
        "id": "NKugreTobLq7",
        "outputId": "f1b33e6c-cf95-4bf8-e0ba-68cbfe020e30"
      },
      "source": [
        "add_more(2,1)"
      ],
      "execution_count": 19,
      "outputs": [
        {
          "output_type": "stream",
          "name": "stdout",
          "text": [
            "This variable2 is greater than the other variable 1\n"
          ]
        }
      ]
    },
    {
      "cell_type": "code",
      "metadata": {
        "colab": {
          "base_uri": "https://localhost:8080/"
        },
        "id": "qWCLN2DtbOiJ",
        "outputId": "85afb218-4c8b-4e13-93e7-7926f7a67070"
      },
      "source": [
        "x = 2\n",
        "y = 1\n",
        "add_more(x,y)"
      ],
      "execution_count": 22,
      "outputs": [
        {
          "output_type": "stream",
          "name": "stdout",
          "text": [
            "This variable 2 is greater than the other variable 1\n"
          ]
        }
      ]
    },
    {
      "cell_type": "code",
      "metadata": {
        "colab": {
          "base_uri": "https://localhost:8080/"
        },
        "id": "Ip8Ko8GxbbRM",
        "outputId": "1b1542ac-be25-40cc-9e44-254e612c4455"
      },
      "source": [
        "add_more(y,x)"
      ],
      "execution_count": 23,
      "outputs": [
        {
          "output_type": "stream",
          "name": "stdout",
          "text": [
            "This variable 1 is greater than the other variable 2\n"
          ]
        }
      ]
    },
    {
      "cell_type": "code",
      "metadata": {
        "id": "sz3whToRbggu"
      },
      "source": [
        ""
      ],
      "execution_count": null,
      "outputs": []
    },
    {
      "cell_type": "markdown",
      "metadata": {
        "id": "5FsWu2Rlbq0e"
      },
      "source": [
        "#### Python Keyword Arguments"
      ]
    },
    {
      "cell_type": "code",
      "metadata": {
        "id": "KmgRSV7gbtHI"
      },
      "source": [
        "def add_keyword(x=2, y=1):\n",
        "  print(f\"This variable {x} is greater than the other variable {y}\")\n",
        "  return x+y"
      ],
      "execution_count": 24,
      "outputs": []
    },
    {
      "cell_type": "code",
      "metadata": {
        "colab": {
          "base_uri": "https://localhost:8080/"
        },
        "id": "xnrU4uvUb19N",
        "outputId": "3cdc84c4-84f8-42cf-9957-0f5412b50df8"
      },
      "source": [
        "add_keyword()\n"
      ],
      "execution_count": 26,
      "outputs": [
        {
          "output_type": "stream",
          "name": "stdout",
          "text": [
            "This variable 2 is greater than the other variable 1\n"
          ]
        },
        {
          "output_type": "execute_result",
          "data": {
            "text/plain": [
              "3"
            ]
          },
          "metadata": {},
          "execution_count": 26
        }
      ]
    },
    {
      "cell_type": "code",
      "metadata": {
        "colab": {
          "base_uri": "https://localhost:8080/"
        },
        "id": "NvRULOEBb3zJ",
        "outputId": "3bea88ca-b56f-48ff-cd2c-116067976386"
      },
      "source": [
        "x =2\n",
        "y =1\n",
        "add_keyword(y,x)"
      ],
      "execution_count": 27,
      "outputs": [
        {
          "output_type": "stream",
          "name": "stdout",
          "text": [
            "This variable 1 is greater than the other variable 2\n"
          ]
        },
        {
          "output_type": "execute_result",
          "data": {
            "text/plain": [
              "3"
            ]
          },
          "metadata": {},
          "execution_count": 27
        }
      ]
    },
    {
      "cell_type": "code",
      "metadata": {
        "id": "LEl20N1acAbj"
      },
      "source": [
        ""
      ],
      "execution_count": null,
      "outputs": []
    },
    {
      "cell_type": "markdown",
      "metadata": {
        "id": "S_KF68eAcRq_"
      },
      "source": [
        ""
      ]
    },
    {
      "cell_type": "markdown",
      "metadata": {
        "id": "wSePfpaOcRv0"
      },
      "source": [
        "#### Python Decorator\n"
      ]
    },
    {
      "cell_type": "code",
      "metadata": {
        "id": "hbYxrDwlcUMq"
      },
      "source": [
        "def lazy_return_random_attacks():\n",
        "    \"\"\"Yield attacks each time\"\"\"\n",
        "    import random\n",
        "    attacks = {\"kimura\": \"upper_body\",\n",
        "           \"straight_ankle_lock\":\"lower_body\", \n",
        "           \"arm_triangle\":\"upper_body\",\n",
        "            \"keylock\": \"upper_body\",\n",
        "            \"knee_bar\": \"lower_body\"}\n",
        "    while True:\n",
        "        random_attack = random.choices(list(attacks.keys()))\n",
        "        yield random_attack\n",
        "        \n",
        "#Make all attacks appear as Upper Case\n",
        "upper_case_attacks = (attack.pop().upper() for attack in lazy_return_random_attacks())\n"
      ],
      "execution_count": 28,
      "outputs": []
    },
    {
      "cell_type": "code",
      "metadata": {
        "colab": {
          "base_uri": "https://localhost:8080/",
          "height": 35
        },
        "id": "ymIc1KBkdY1Z",
        "outputId": "b599a984-85db-4bf4-c3ea-c76335a2ba14"
      },
      "source": [
        "next(upper_case_attacks)"
      ],
      "execution_count": 32,
      "outputs": [
        {
          "output_type": "execute_result",
          "data": {
            "application/vnd.google.colaboratory.intrinsic+json": {
              "type": "string"
            },
            "text/plain": [
              "'KIMURA'"
            ]
          },
          "metadata": {},
          "execution_count": 32
        }
      ]
    },
    {
      "cell_type": "code",
      "metadata": {
        "id": "qp944FgndcU9"
      },
      "source": [
        "## Generator Pipeline:  One expression chains into the next\n",
        "#Make all attacks appear as Upper Case\n",
        "upper_case_attacks = (attack.pop().upper() for attack in lazy_return_random_attacks())\n",
        "#Remove the underscore\n",
        "remove_underscore = (attack.split(\"_\") for attack in upper_case_attacks)\n",
        "#Create a new phrase \n",
        "new_attack_phrase = (\" \".join(phrase) for phrase in remove_underscore)\n",
        "#this is where you can call an AI API\n",
        "#my_api_call = comprehend(new_attack_phrase)"
      ],
      "execution_count": 33,
      "outputs": []
    },
    {
      "cell_type": "code",
      "metadata": {
        "colab": {
          "base_uri": "https://localhost:8080/"
        },
        "id": "xPoDCho4eFTZ",
        "outputId": "7f702d09-c5fa-434b-ad58-82bffc0f8d8a"
      },
      "source": [
        "for number in range(10):\n",
        "    print(next(new_attack_phrase))"
      ],
      "execution_count": 34,
      "outputs": [
        {
          "output_type": "stream",
          "name": "stdout",
          "text": [
            "ARM TRIANGLE\n",
            "KIMURA\n",
            "STRAIGHT ANKLE LOCK\n",
            "KEYLOCK\n",
            "STRAIGHT ANKLE LOCK\n",
            "KIMURA\n",
            "KIMURA\n",
            "ARM TRIANGLE\n",
            "ARM TRIANGLE\n",
            "KIMURA\n"
          ]
        }
      ]
    },
    {
      "cell_type": "markdown",
      "metadata": {
        "id": "boj7an6aeZBX"
      },
      "source": [
        "#### Decorator"
      ]
    },
    {
      "cell_type": "code",
      "metadata": {
        "id": "3gCImwhYecrT"
      },
      "source": [
        "def randomized_speed_attack_decorator(function):\n",
        "    \"\"\"Randomizes the speed of attacks\"\"\"\n",
        "    \n",
        "    import time\n",
        "    import random\n",
        "    \n",
        "    def wrapper_func(*args, **kwargs):\n",
        "        sleep_time = random.randint(0,3)\n",
        "        print(f\"Attacking after {sleep_time} seconds\")\n",
        "        time.sleep(sleep_time)\n",
        "        return function(*args, **kwargs)\n",
        "    return wrapper_func"
      ],
      "execution_count": 35,
      "outputs": []
    },
    {
      "cell_type": "code",
      "metadata": {
        "id": "HGEZb70fegqR"
      },
      "source": [
        "\n",
        "@randomized_speed_attack_decorator\n",
        "def lazy_return_random_attacks():\n",
        "    \"\"\"Yield attacks each time\"\"\"\n",
        "    import random\n",
        "    attacks = {\"kimura\": \"upper_body\",\n",
        "           \"straight_ankle_lock\":\"lower_body\", \n",
        "           \"arm_triangle\":\"upper_body\",\n",
        "            \"keylock\": \"upper_body\",\n",
        "            \"knee_bar\": \"lower_body\"}\n",
        "    while True:\n",
        "        random_attack = random.choices(list(attacks.keys()))\n",
        "        yield random_attack"
      ],
      "execution_count": 36,
      "outputs": []
    },
    {
      "cell_type": "code",
      "metadata": {
        "colab": {
          "base_uri": "https://localhost:8080/"
        },
        "id": "kI7BqdoGekOv",
        "outputId": "e4fa4c37-b0c6-4799-9a16-f26fd06322f6"
      },
      "source": [
        "for _ in range(5):\n",
        "    print(next(lazy_return_random_attacks()))"
      ],
      "execution_count": 37,
      "outputs": [
        {
          "output_type": "stream",
          "name": "stdout",
          "text": [
            "Attacking after 0 seconds\n",
            "['keylock']\n",
            "Attacking after 2 seconds\n",
            "['arm_triangle']\n",
            "Attacking after 2 seconds\n",
            "['arm_triangle']\n",
            "Attacking after 1 seconds\n",
            "['straight_ankle_lock']\n",
            "Attacking after 0 seconds\n",
            "['keylock']\n"
          ]
        }
      ]
    },
    {
      "cell_type": "code",
      "metadata": {
        "id": "UrG9USd1ey0O"
      },
      "source": [
        "from functools import wraps\n",
        "from time import time\n",
        "\n",
        "def timing(f):\n",
        "    @wraps(f)\n",
        "    def wrap(*args, **kw):\n",
        "        ts = time()\n",
        "        result = f(*args, **kw)\n",
        "        te = time()\n",
        "        print(f\"DEBUG!!! function name: {f.__name__}, args: [{args}, {kw}] took: {te-ts} sec\")\n",
        "        return result\n",
        "    return wrap"
      ],
      "execution_count": 45,
      "outputs": []
    },
    {
      "cell_type": "code",
      "metadata": {
        "id": "EDZEZHCJfOOD"
      },
      "source": [
        "def add(x,y):\n",
        "  return x+y"
      ],
      "execution_count": 39,
      "outputs": []
    },
    {
      "cell_type": "code",
      "metadata": {
        "colab": {
          "base_uri": "https://localhost:8080/"
        },
        "id": "bjddIXezfdLt",
        "outputId": "10e12db6-356b-4fce-85ea-5e61f888770b"
      },
      "source": [
        "add(1,1)"
      ],
      "execution_count": 40,
      "outputs": [
        {
          "output_type": "execute_result",
          "data": {
            "text/plain": [
              "2"
            ]
          },
          "metadata": {},
          "execution_count": 40
        }
      ]
    },
    {
      "cell_type": "code",
      "metadata": {
        "id": "aJ8uGSIafeYs"
      },
      "source": [
        "@timing\n",
        "def add(x,y):\n",
        "  return x+y;\n",
        "  "
      ],
      "execution_count": 41,
      "outputs": []
    },
    {
      "cell_type": "code",
      "metadata": {
        "colab": {
          "base_uri": "https://localhost:8080/"
        },
        "id": "H75rtqscfrWP",
        "outputId": "c007e156-ac1e-4ebe-b79c-ef8a0aa4f4b8"
      },
      "source": [
        "add(1,1)"
      ],
      "execution_count": 46,
      "outputs": [
        {
          "output_type": "stream",
          "name": "stdout",
          "text": [
            "DEBUG!!! function name: add, args: [(1, 1), {}] took: 1.1920928955078125e-06 sec\n"
          ]
        },
        {
          "output_type": "execute_result",
          "data": {
            "text/plain": [
              "2"
            ]
          },
          "metadata": {},
          "execution_count": 46
        }
      ]
    },
    {
      "cell_type": "code",
      "metadata": {
        "id": "sLQQqKvAftQi"
      },
      "source": [
        ""
      ],
      "execution_count": null,
      "outputs": []
    },
    {
      "cell_type": "markdown",
      "metadata": {
        "id": "HQTTviWth_I1"
      },
      "source": [
        "#### How Closures Work\n"
      ]
    },
    {
      "cell_type": "code",
      "metadata": {
        "id": "COvb6cqYiqJC"
      },
      "source": [
        "def one():\n",
        "  return 1"
      ],
      "execution_count": 54,
      "outputs": []
    },
    {
      "cell_type": "code",
      "metadata": {
        "id": "RlduSUM-iC3M"
      },
      "source": [
        "def outer():\n",
        "  return one"
      ],
      "execution_count": 55,
      "outputs": []
    },
    {
      "cell_type": "code",
      "metadata": {
        "id": "2-gIfLfNiNoj"
      },
      "source": [
        "res = outer()"
      ],
      "execution_count": 56,
      "outputs": []
    },
    {
      "cell_type": "code",
      "metadata": {
        "colab": {
          "base_uri": "https://localhost:8080/"
        },
        "id": "7iJb7O41iUjV",
        "outputId": "47b975e9-ed52-4fdd-fef2-e9d0012b9fb5"
      },
      "source": [
        "type(res)"
      ],
      "execution_count": 57,
      "outputs": [
        {
          "output_type": "execute_result",
          "data": {
            "text/plain": [
              "function"
            ]
          },
          "metadata": {},
          "execution_count": 57
        }
      ]
    },
    {
      "cell_type": "code",
      "metadata": {
        "colab": {
          "base_uri": "https://localhost:8080/"
        },
        "id": "PmcOELh4ilHm",
        "outputId": "d972e2f4-99cf-43fc-e32e-1a05c1b1a294"
      },
      "source": [
        "res()"
      ],
      "execution_count": 58,
      "outputs": [
        {
          "output_type": "execute_result",
          "data": {
            "text/plain": [
              "1"
            ]
          },
          "metadata": {},
          "execution_count": 58
        }
      ]
    },
    {
      "cell_type": "code",
      "metadata": {
        "id": "i2HdWQ5ui2Le"
      },
      "source": [
        ""
      ],
      "execution_count": null,
      "outputs": []
    },
    {
      "cell_type": "markdown",
      "metadata": {
        "id": "OR5Fo0lpjCrT"
      },
      "source": [
        "#### Nested Function\n"
      ]
    },
    {
      "cell_type": "code",
      "metadata": {
        "id": "BlN_cEOnjEYD"
      },
      "source": [
        "def outer():\n",
        "    def inner():\n",
        "        return \"I was inside\"\n",
        "    return inner\n",
        "    "
      ],
      "execution_count": 60,
      "outputs": []
    },
    {
      "cell_type": "code",
      "metadata": {
        "id": "XzZGCGE6jKe6"
      },
      "source": [
        "res=outer()"
      ],
      "execution_count": 63,
      "outputs": []
    },
    {
      "cell_type": "code",
      "metadata": {
        "colab": {
          "base_uri": "https://localhost:8080/"
        },
        "id": "jyXJqKG0jLqZ",
        "outputId": "3171cba3-dc79-4dd0-a2a8-4c0042b70f61"
      },
      "source": [
        "type(res)"
      ],
      "execution_count": 65,
      "outputs": [
        {
          "output_type": "execute_result",
          "data": {
            "text/plain": [
              "function"
            ]
          },
          "metadata": {},
          "execution_count": 65
        }
      ]
    },
    {
      "cell_type": "code",
      "metadata": {
        "colab": {
          "base_uri": "https://localhost:8080/",
          "height": 35
        },
        "id": "XDWIg-WFjcqq",
        "outputId": "4cf16556-8a3e-4945-c0b9-72e5a56a8bac"
      },
      "source": [
        "res()"
      ],
      "execution_count": 66,
      "outputs": [
        {
          "output_type": "execute_result",
          "data": {
            "application/vnd.google.colaboratory.intrinsic+json": {
              "type": "string"
            },
            "text/plain": [
              "'I was inside'"
            ]
          },
          "metadata": {},
          "execution_count": 66
        }
      ]
    },
    {
      "cell_type": "code",
      "metadata": {
        "id": "kxDsfaNvjxod"
      },
      "source": [
        "#nonlocal cannot modify this variable\n",
        "#lower_body_counter=5\n",
        "def attack_counter():\n",
        "    \"\"\"Counts number of attacks on part of body\"\"\"\n",
        "    lower_body_counter = 0\n",
        "    upper_body_counter = 0\n",
        "    #print(lower_body_counter)\n",
        "    def attack_filter(attack):\n",
        "        nonlocal lower_body_counter\n",
        "        nonlocal upper_body_counter\n",
        "        attacks = {\"kimura\": \"upper_body\",\n",
        "           \"straight_ankle_lock\":\"lower_body\", \n",
        "           \"arm_triangle\":\"upper_body\",\n",
        "            \"keylock\": \"upper_body\",\n",
        "            \"knee_bar\": \"lower_body\"}\n",
        "        if attack in attacks:\n",
        "            if attacks[attack] == \"upper_body\":\n",
        "                upper_body_counter +=1\n",
        "            if attacks[attack] == \"lower_body\":\n",
        "                lower_body_counter +=1\n",
        "        print(f\"Upper Body Attacks {upper_body_counter}, Lower Body Attacks {lower_body_counter}\")\n",
        "    return attack_filter"
      ],
      "execution_count": 67,
      "outputs": []
    },
    {
      "cell_type": "code",
      "metadata": {
        "id": "1KVQeqkCkNUC"
      },
      "source": [
        "fight = attack_counter()"
      ],
      "execution_count": 68,
      "outputs": []
    },
    {
      "cell_type": "code",
      "metadata": {
        "colab": {
          "base_uri": "https://localhost:8080/"
        },
        "id": "1pAG_fmAkfzZ",
        "outputId": "21ffd3ab-62f9-4878-973e-fe1ea7858f66"
      },
      "source": [
        "type(fight)"
      ],
      "execution_count": 70,
      "outputs": [
        {
          "output_type": "execute_result",
          "data": {
            "text/plain": [
              "function"
            ]
          },
          "metadata": {},
          "execution_count": 70
        }
      ]
    },
    {
      "cell_type": "code",
      "metadata": {
        "colab": {
          "base_uri": "https://localhost:8080/"
        },
        "id": "oDeefXOUkhgg",
        "outputId": "904795f2-ea60-4047-8d34-9fa19e404465"
      },
      "source": [
        "fight(\"kimura\")"
      ],
      "execution_count": 72,
      "outputs": [
        {
          "output_type": "stream",
          "name": "stdout",
          "text": [
            "Upper Body Attacks 1, Lower Body Attacks 0\n"
          ]
        }
      ]
    },
    {
      "cell_type": "code",
      "metadata": {
        "colab": {
          "base_uri": "https://localhost:8080/"
        },
        "id": "miGBbGvrkmxP",
        "outputId": "b755367b-3b90-463c-f12b-0f6288caefca"
      },
      "source": [
        "fight(\"kimura\")\n",
        "fight(\"kimura\")"
      ],
      "execution_count": 74,
      "outputs": [
        {
          "output_type": "stream",
          "name": "stdout",
          "text": [
            "Upper Body Attacks 3, Lower Body Attacks 0\n",
            "Upper Body Attacks 4, Lower Body Attacks 0\n"
          ]
        }
      ]
    },
    {
      "cell_type": "code",
      "metadata": {
        "colab": {
          "base_uri": "https://localhost:8080/"
        },
        "id": "QgSbxAvTk2l3",
        "outputId": "11cd0a27-ce84-470f-feac-679863689d9a"
      },
      "source": [
        "fight(\"knee_bar\")"
      ],
      "execution_count": 75,
      "outputs": [
        {
          "output_type": "stream",
          "name": "stdout",
          "text": [
            "Upper Body Attacks 4, Lower Body Attacks 1\n"
          ]
        }
      ]
    },
    {
      "cell_type": "code",
      "metadata": {
        "id": "4jRKekpjk9_z"
      },
      "source": [
        ""
      ],
      "execution_count": null,
      "outputs": []
    },
    {
      "cell_type": "markdown",
      "metadata": {
        "id": "URA13Knqlnw9"
      },
      "source": [
        "#### Wild Card Variables for Functions\n"
      ]
    },
    {
      "cell_type": "code",
      "metadata": {
        "id": "HAp7TxQalshJ"
      },
      "source": [
        "def output(*args):\n",
        "  for arg in args:\n",
        "    print(arg)"
      ],
      "execution_count": 82,
      "outputs": []
    },
    {
      "cell_type": "code",
      "metadata": {
        "colab": {
          "base_uri": "https://localhost:8080/"
        },
        "id": "3WAvmSInl7vA",
        "outputId": "bfca95c6-23c2-48fe-fa0e-a6a4ba747a42"
      },
      "source": [
        "output(1)"
      ],
      "execution_count": 83,
      "outputs": [
        {
          "output_type": "stream",
          "name": "stdout",
          "text": [
            "1\n"
          ]
        }
      ]
    },
    {
      "cell_type": "code",
      "metadata": {
        "colab": {
          "base_uri": "https://localhost:8080/"
        },
        "id": "HosVgAB5l9Cz",
        "outputId": "3b733ee9-93be-401e-99c4-5fe367dbfad3"
      },
      "source": [
        "output(1,2)"
      ],
      "execution_count": 84,
      "outputs": [
        {
          "output_type": "stream",
          "name": "stdout",
          "text": [
            "1\n",
            "2\n"
          ]
        }
      ]
    },
    {
      "cell_type": "code",
      "metadata": {
        "colab": {
          "base_uri": "https://localhost:8080/"
        },
        "id": "GBie0w7qmR1r",
        "outputId": "86e18ce0-9212-4ac4-8f09-316cc051fcab"
      },
      "source": [
        "output(1,2,3)"
      ],
      "execution_count": 85,
      "outputs": [
        {
          "output_type": "stream",
          "name": "stdout",
          "text": [
            "1\n",
            "2\n",
            "3\n"
          ]
        }
      ]
    },
    {
      "cell_type": "code",
      "metadata": {
        "id": "C3Pz2_YkmUaw"
      },
      "source": [
        "def more(**kwargs):\n",
        "  print(f\"You passed in this many itmes to the function: {len(kwargs)}\")\n",
        "  for key , value in kwargs.items():\n",
        "    print(f\"This is the key: {key}\")\n",
        "    print(f\"This is the value: {value}\")"
      ],
      "execution_count": 86,
      "outputs": []
    },
    {
      "cell_type": "code",
      "metadata": {
        "colab": {
          "base_uri": "https://localhost:8080/"
        },
        "id": "OIDcLBSKmvx-",
        "outputId": "2d73fe12-76f2-4c46-d3ff-2309a039e8c8"
      },
      "source": [
        "more(one=1)"
      ],
      "execution_count": 87,
      "outputs": [
        {
          "output_type": "stream",
          "name": "stdout",
          "text": [
            "You passed in this many itmes to the function: 1\n",
            "This is the key: one\n",
            "This is the value: 1\n"
          ]
        }
      ]
    },
    {
      "cell_type": "code",
      "metadata": {
        "colab": {
          "base_uri": "https://localhost:8080/"
        },
        "id": "RtM-qvhVmxd-",
        "outputId": "222f88fd-c383-457e-e249-3eba2fc1cbd9"
      },
      "source": [
        "more(one=1, two=2, three=3)"
      ],
      "execution_count": 88,
      "outputs": [
        {
          "output_type": "stream",
          "name": "stdout",
          "text": [
            "You passed in this many itmes to the function: 3\n",
            "This is the key: one\n",
            "This is the value: 1\n",
            "This is the key: two\n",
            "This is the value: 2\n",
            "This is the key: three\n",
            "This is the value: 3\n"
          ]
        }
      ]
    },
    {
      "cell_type": "code",
      "metadata": {
        "id": "Tvy2UWX0m2IH"
      },
      "source": [
        ""
      ],
      "execution_count": null,
      "outputs": []
    }
  ]
}