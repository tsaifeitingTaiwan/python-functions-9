{
  "nbformat": 4,
  "nbformat_minor": 0,
  "metadata": {
    "colab": {
      "name": "statements.ipynb",
      "provenance": [],
      "authorship_tag": "ABX9TyOxeZEge/KlkEs7gVBZE9Ws",
      "include_colab_link": true
    },
    "kernelspec": {
      "name": "python3",
      "display_name": "Python 3"
    },
    "language_info": {
      "name": "python"
    }
  },
  "cells": [
    {
      "cell_type": "markdown",
      "metadata": {
        "id": "view-in-github",
        "colab_type": "text"
      },
      "source": [
        "<a href=\"https://colab.research.google.com/github/tsaifeitingTaiwan/python-functions-9/blob/main/statements.ipynb\" target=\"_parent\"><img src=\"https://colab.research.google.com/assets/colab-badge.svg\" alt=\"Open In Colab\"/></a>"
      ]
    },
    {
      "cell_type": "markdown",
      "metadata": {
        "id": "HZ_nonY-IPPY"
      },
      "source": [
        "# Lesson One: Statement"
      ]
    },
    {
      "cell_type": "markdown",
      "metadata": {
        "id": "4oqzA-5QH_VZ"
      },
      "source": [
        "## Statements\n"
      ]
    },
    {
      "cell_type": "code",
      "metadata": {
        "colab": {
          "base_uri": "https://localhost:8080/"
        },
        "id": "A79Y8d2jIUTu",
        "outputId": "da41c304-1ced-4033-d381-6110dadba873"
      },
      "source": [
        "print(\"hello world\")"
      ],
      "execution_count": 1,
      "outputs": [
        {
          "output_type": "stream",
          "name": "stdout",
          "text": [
            "hello world\n"
          ]
        }
      ]
    },
    {
      "cell_type": "markdown",
      "metadata": {
        "id": "QR7awexeILTD"
      },
      "source": [
        "var = \"Apple\"\n",
        "\n"
      ]
    },
    {
      "cell_type": "code",
      "metadata": {
        "id": "CdApo61TJvEb",
        "outputId": "363f2ace-2c47-42a0-b9dd-5d760b5322e8",
        "colab": {
          "base_uri": "https://localhost:8080/"
        }
      },
      "source": [
        "print(f\"This a good fruit to eat in the winter\")"
      ],
      "execution_count": 5,
      "outputs": [
        {
          "output_type": "stream",
          "name": "stdout",
          "text": [
            "This a good fruit to eat in the winter\n"
          ]
        }
      ]
    },
    {
      "cell_type": "code",
      "metadata": {
        "id": "NV-LujYNJ2oZ"
      },
      "source": [
        "var =\"Apple\""
      ],
      "execution_count": 6,
      "outputs": []
    },
    {
      "cell_type": "code",
      "metadata": {
        "id": "CCy0dJ6ZKP7q",
        "outputId": "1cc100c7-eb38-4f5b-86f2-afc2cf8a366d",
        "colab": {
          "base_uri": "https://localhost:8080/"
        }
      },
      "source": [
        "print(f\"This is a good fruit to eat in winter {var}\")"
      ],
      "execution_count": 8,
      "outputs": [
        {
          "output_type": "stream",
          "name": "stdout",
          "text": [
            "This is a good fruit to eat in winter Apple\n"
          ]
        }
      ]
    },
    {
      "cell_type": "code",
      "metadata": {
        "id": "sfHXjO6-KSYn"
      },
      "source": [
        "num = 100"
      ],
      "execution_count": 9,
      "outputs": []
    },
    {
      "cell_type": "code",
      "metadata": {
        "id": "GJ91FH47KbOd",
        "outputId": "11c3379c-4489-4b71-9cb9-ab7fff182385",
        "colab": {
          "base_uri": "https://localhost:8080/"
        }
      },
      "source": [
        "type(num)"
      ],
      "execution_count": 10,
      "outputs": [
        {
          "output_type": "execute_result",
          "data": {
            "text/plain": [
              "int"
            ]
          },
          "metadata": {},
          "execution_count": 10
        }
      ]
    },
    {
      "cell_type": "code",
      "metadata": {
        "id": "uFdUyrdSKczB",
        "outputId": "3be6dfe6-dc77-4ae1-c7b7-1a418b18cde6",
        "colab": {
          "base_uri": "https://localhost:8080/"
        }
      },
      "source": [
        "print(f\"The amount of money I like in my wallet is {num} dollars\")"
      ],
      "execution_count": 11,
      "outputs": [
        {
          "output_type": "stream",
          "name": "stdout",
          "text": [
            "The amount of money I like in my wallet is 100 dollars\n"
          ]
        }
      ]
    },
    {
      "cell_type": "code",
      "metadata": {
        "id": "FzflJXNlK2G2"
      },
      "source": [
        ""
      ],
      "execution_count": null,
      "outputs": []
    }
  ]
}