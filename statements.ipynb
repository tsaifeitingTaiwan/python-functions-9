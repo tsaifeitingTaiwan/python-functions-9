{
  "nbformat": 4,
  "nbformat_minor": 0,
  "metadata": {
    "colab": {
      "name": "statements.ipynb",
      "provenance": [],
      "toc_visible": true,
      "authorship_tag": "ABX9TyM2NrjajGo3fQEL4N9Vs2V8",
      "include_colab_link": true
    },
    "kernelspec": {
      "name": "python3",
      "display_name": "Python 3"
    },
    "language_info": {
      "name": "python"
    }
  },
  "cells": [
    {
      "cell_type": "markdown",
      "metadata": {
        "id": "view-in-github",
        "colab_type": "text"
      },
      "source": [
        "<a href=\"https://colab.research.google.com/github/tsaifeitingTaiwan/python-functions-9/blob/main/statements.ipynb\" target=\"_parent\"><img src=\"https://colab.research.google.com/assets/colab-badge.svg\" alt=\"Open In Colab\"/></a>"
      ]
    },
    {
      "cell_type": "markdown",
      "metadata": {
        "id": "HZ_nonY-IPPY"
      },
      "source": [
        "# Lesson One: Statement"
      ]
    },
    {
      "cell_type": "markdown",
      "metadata": {
        "id": "4oqzA-5QH_VZ"
      },
      "source": [
        "## Statements\n"
      ]
    },
    {
      "cell_type": "markdown",
      "metadata": {
        "id": "w76gSMaaLWS2"
      },
      "source": [
        "### Hello World Examples\n"
      ]
    },
    {
      "cell_type": "code",
      "metadata": {
        "colab": {
          "base_uri": "https://localhost:8080/"
        },
        "id": "A79Y8d2jIUTu",
        "outputId": "da41c304-1ced-4033-d381-6110dadba873"
      },
      "source": [
        "print(\"hello world\")"
      ],
      "execution_count": 1,
      "outputs": [
        {
          "output_type": "stream",
          "name": "stdout",
          "text": [
            "hello world\n"
          ]
        }
      ]
    },
    {
      "cell_type": "markdown",
      "metadata": {
        "id": "QR7awexeILTD"
      },
      "source": [
        "var = \"Apple\"\n",
        "\n"
      ]
    },
    {
      "cell_type": "code",
      "metadata": {
        "colab": {
          "base_uri": "https://localhost:8080/"
        },
        "id": "CdApo61TJvEb",
        "outputId": "363f2ace-2c47-42a0-b9dd-5d760b5322e8"
      },
      "source": [
        "print(f\"This a good fruit to eat in the winter\")"
      ],
      "execution_count": 5,
      "outputs": [
        {
          "output_type": "stream",
          "name": "stdout",
          "text": [
            "This a good fruit to eat in the winter\n"
          ]
        }
      ]
    },
    {
      "cell_type": "code",
      "metadata": {
        "id": "NV-LujYNJ2oZ"
      },
      "source": [
        "var =\"Apple\""
      ],
      "execution_count": 6,
      "outputs": []
    },
    {
      "cell_type": "code",
      "metadata": {
        "colab": {
          "base_uri": "https://localhost:8080/"
        },
        "id": "CCy0dJ6ZKP7q",
        "outputId": "1cc100c7-eb38-4f5b-86f2-afc2cf8a366d"
      },
      "source": [
        "print(f\"This is a good fruit to eat in winter {var}\")"
      ],
      "execution_count": 8,
      "outputs": [
        {
          "output_type": "stream",
          "name": "stdout",
          "text": [
            "This is a good fruit to eat in winter Apple\n"
          ]
        }
      ]
    },
    {
      "cell_type": "code",
      "metadata": {
        "id": "sfHXjO6-KSYn"
      },
      "source": [
        "num = 100"
      ],
      "execution_count": 9,
      "outputs": []
    },
    {
      "cell_type": "code",
      "metadata": {
        "colab": {
          "base_uri": "https://localhost:8080/"
        },
        "id": "GJ91FH47KbOd",
        "outputId": "11c3379c-4489-4b71-9cb9-ab7fff182385"
      },
      "source": [
        "type(num)"
      ],
      "execution_count": 10,
      "outputs": [
        {
          "output_type": "execute_result",
          "data": {
            "text/plain": [
              "int"
            ]
          },
          "metadata": {},
          "execution_count": 10
        }
      ]
    },
    {
      "cell_type": "code",
      "metadata": {
        "colab": {
          "base_uri": "https://localhost:8080/"
        },
        "id": "uFdUyrdSKczB",
        "outputId": "3be6dfe6-dc77-4ae1-c7b7-1a418b18cde6"
      },
      "source": [
        "print(f\"The amount of money I like in my wallet is {num} dollars\")"
      ],
      "execution_count": 11,
      "outputs": [
        {
          "output_type": "stream",
          "name": "stdout",
          "text": [
            "The amount of money I like in my wallet is 100 dollars\n"
          ]
        }
      ]
    },
    {
      "cell_type": "code",
      "metadata": {
        "id": "FzflJXNlK2G2"
      },
      "source": [
        ""
      ],
      "execution_count": null,
      "outputs": []
    },
    {
      "cell_type": "markdown",
      "metadata": {
        "id": "CeBcSGPfMQQK"
      },
      "source": [
        "### Data Structures\n"
      ]
    },
    {
      "cell_type": "markdown",
      "metadata": {
        "id": "khqp0Me5MkwP"
      },
      "source": [
        "#### Variables\n"
      ]
    },
    {
      "cell_type": "code",
      "metadata": {
        "id": "eMmXA9orMUaS"
      },
      "source": [
        "var = 1"
      ],
      "execution_count": 12,
      "outputs": []
    },
    {
      "cell_type": "markdown",
      "metadata": {
        "id": "D32jOA8FMqdy"
      },
      "source": [
        "####Lists\n"
      ]
    },
    {
      "cell_type": "markdown",
      "metadata": {
        "id": "j_bzQUB7MqHk"
      },
      "source": [
        ""
      ]
    },
    {
      "cell_type": "code",
      "metadata": {
        "id": "pzSGZEsuMYDH"
      },
      "source": [
        "mylist = []\n"
      ],
      "execution_count": 13,
      "outputs": []
    },
    {
      "cell_type": "code",
      "metadata": {
        "id": "6JlYPYsxMgKf"
      },
      "source": [
        "mylist.append(1)"
      ],
      "execution_count": 14,
      "outputs": []
    },
    {
      "cell_type": "code",
      "metadata": {
        "id": "2V7nJKR0NDLh"
      },
      "source": [
        "mylist.append(1)"
      ],
      "execution_count": 15,
      "outputs": []
    },
    {
      "cell_type": "code",
      "metadata": {
        "colab": {
          "base_uri": "https://localhost:8080/"
        },
        "id": "9Sce4q01NFsT",
        "outputId": "8ef7ec9c-b071-412b-e16e-4bc259513ca5"
      },
      "source": [
        "# how many items\n",
        "len(mylist)"
      ],
      "execution_count": 16,
      "outputs": [
        {
          "output_type": "execute_result",
          "data": {
            "text/plain": [
              "2"
            ]
          },
          "metadata": {},
          "execution_count": 16
        }
      ]
    },
    {
      "cell_type": "code",
      "metadata": {
        "colab": {
          "base_uri": "https://localhost:8080/"
        },
        "id": "la5dJ81zNJtJ",
        "outputId": "a6169bbf-bd81-429e-df58-5ec264ae53ac"
      },
      "source": [
        "print(mylist)"
      ],
      "execution_count": 17,
      "outputs": [
        {
          "output_type": "stream",
          "name": "stdout",
          "text": [
            "[1, 1]\n"
          ]
        }
      ]
    },
    {
      "cell_type": "code",
      "metadata": {
        "id": "FoZGd1vQNMs2"
      },
      "source": [
        "# many things at once\n",
        "another_list= [1,2,3,4,5,6,7,8,9,10]"
      ],
      "execution_count": 18,
      "outputs": []
    },
    {
      "cell_type": "code",
      "metadata": {
        "colab": {
          "base_uri": "https://localhost:8080/"
        },
        "id": "_64cj_rsNjWY",
        "outputId": "88a09870-b785-440f-b4fc-b806a9f9d62d"
      },
      "source": [
        "len(another_list)"
      ],
      "execution_count": 19,
      "outputs": [
        {
          "output_type": "execute_result",
          "data": {
            "text/plain": [
              "10"
            ]
          },
          "metadata": {},
          "execution_count": 19
        }
      ]
    },
    {
      "cell_type": "code",
      "metadata": {
        "colab": {
          "base_uri": "https://localhost:8080/"
        },
        "id": "vilWZsYrNlc8",
        "outputId": "28b443e4-a03e-4f91-f1ef-f14a53fbd078"
      },
      "source": [
        "# grab two items from the tops\n",
        "another_list[0:2]"
      ],
      "execution_count": 21,
      "outputs": [
        {
          "output_type": "execute_result",
          "data": {
            "text/plain": [
              "[1, 2]"
            ]
          },
          "metadata": {},
          "execution_count": 21
        }
      ]
    },
    {
      "cell_type": "code",
      "metadata": {
        "colab": {
          "base_uri": "https://localhost:8080/"
        },
        "id": "QWwEMDPJNnPt",
        "outputId": "05eaae86-8488-46cf-be13-95641076f204"
      },
      "source": [
        "# thins you can do\n",
        "another_list[-2] #just this item"
      ],
      "execution_count": 24,
      "outputs": [
        {
          "output_type": "execute_result",
          "data": {
            "text/plain": [
              "[9, 10]"
            ]
          },
          "metadata": {},
          "execution_count": 24
        }
      ]
    },
    {
      "cell_type": "code",
      "metadata": {
        "colab": {
          "base_uri": "https://localhost:8080/"
        },
        "id": "Cas7L7b1N4ZX",
        "outputId": "3696ea33-aee5-4107-b9e6-921430bd9bfb"
      },
      "source": [
        "# grab two items from the end\n",
        "another_list[-2:]"
      ],
      "execution_count": 26,
      "outputs": [
        {
          "output_type": "execute_result",
          "data": {
            "text/plain": [
              "[9, 10]"
            ]
          },
          "metadata": {},
          "execution_count": 26
        }
      ]
    },
    {
      "cell_type": "code",
      "metadata": {
        "colab": {
          "base_uri": "https://localhost:8080/"
        },
        "id": "TXC9NaFCOdAm",
        "outputId": "29ece350-bf81-4bf7-a861-3396582f0927"
      },
      "source": [
        "# grab all item except the last 2\n",
        "another_list[:-2]"
      ],
      "execution_count": 27,
      "outputs": [
        {
          "output_type": "execute_result",
          "data": {
            "text/plain": [
              "[1, 2, 3, 4, 5, 6, 7, 8]"
            ]
          },
          "metadata": {},
          "execution_count": 27
        }
      ]
    },
    {
      "cell_type": "markdown",
      "metadata": {
        "id": "DzBoFsMEOwOi"
      },
      "source": [
        "####Dictionary"
      ]
    },
    {
      "cell_type": "code",
      "metadata": {
        "id": "gKq3GAH8OuFS"
      },
      "source": [
        "mydict = {}\n"
      ],
      "execution_count": 29,
      "outputs": []
    },
    {
      "cell_type": "code",
      "metadata": {
        "id": "9tHuWO8-O12j"
      },
      "source": [
        "mydict[\"one\"]=1"
      ],
      "execution_count": 30,
      "outputs": []
    },
    {
      "cell_type": "code",
      "metadata": {
        "colab": {
          "base_uri": "https://localhost:8080/"
        },
        "id": "dv64K0e-O5-0",
        "outputId": "8f45b73d-4338-48b4-a16f-1c7791573a9e"
      },
      "source": [
        "mydict.values() #right side"
      ],
      "execution_count": 31,
      "outputs": [
        {
          "output_type": "execute_result",
          "data": {
            "text/plain": [
              "dict_values([1])"
            ]
          },
          "metadata": {},
          "execution_count": 31
        }
      ]
    },
    {
      "cell_type": "code",
      "metadata": {
        "colab": {
          "base_uri": "https://localhost:8080/"
        },
        "id": "-i1fGwAfO88g",
        "outputId": "ea5d18ef-378d-401a-bd96-18d59fba99f7"
      },
      "source": [
        "mydict.keys() #left side"
      ],
      "execution_count": 32,
      "outputs": [
        {
          "output_type": "execute_result",
          "data": {
            "text/plain": [
              "dict_keys(['one'])"
            ]
          },
          "metadata": {},
          "execution_count": 32
        }
      ]
    },
    {
      "cell_type": "code",
      "metadata": {
        "colab": {
          "base_uri": "https://localhost:8080/"
        },
        "id": "lV9MAyqtPBJl",
        "outputId": "6e7de315-0d11-431f-fc0d-47371b355bed"
      },
      "source": [
        "mydict.items() #bothkey and the value"
      ],
      "execution_count": 35,
      "outputs": [
        {
          "output_type": "execute_result",
          "data": {
            "text/plain": [
              "dict_items([('one', 1)])"
            ]
          },
          "metadata": {},
          "execution_count": 35
        }
      ]
    },
    {
      "cell_type": "code",
      "metadata": {
        "id": "2om5hAqqPKTQ"
      },
      "source": [
        "newdict = {\n",
        "    \"one\" : 1,\n",
        "    \"two\" : 2,\n",
        "    \"three\" : 3\n",
        "}"
      ],
      "execution_count": 37,
      "outputs": []
    },
    {
      "cell_type": "code",
      "metadata": {
        "colab": {
          "base_uri": "https://localhost:8080/"
        },
        "id": "-VTTS5tFPq0X",
        "outputId": "4d745d99-0f38-41a0-c2d2-17caf6ad40e2"
      },
      "source": [
        "newdict.items()\n"
      ],
      "execution_count": 38,
      "outputs": [
        {
          "output_type": "execute_result",
          "data": {
            "text/plain": [
              "dict_items([('one', 1), ('two', 2), ('three', 3)])"
            ]
          },
          "metadata": {},
          "execution_count": 38
        }
      ]
    },
    {
      "cell_type": "code",
      "metadata": {
        "colab": {
          "base_uri": "https://localhost:8080/"
        },
        "id": "Hdbq6MODPwqU",
        "outputId": "6e53664b-2d98-4393-8221-689355974c92"
      },
      "source": [
        "newdict.keys()"
      ],
      "execution_count": 39,
      "outputs": [
        {
          "output_type": "execute_result",
          "data": {
            "text/plain": [
              "dict_keys(['one', 'two', 'three'])"
            ]
          },
          "metadata": {},
          "execution_count": 39
        }
      ]
    },
    {
      "cell_type": "code",
      "metadata": {
        "id": "UoNkOo1rPzOo"
      },
      "source": [
        "another_dict = {\n",
        "    \"aws_lambda\" : [1,2,3,4,5],\n",
        "    \"aws_s3\" : [6,7,8]\n",
        "}"
      ],
      "execution_count": 41,
      "outputs": []
    },
    {
      "cell_type": "code",
      "metadata": {
        "colab": {
          "base_uri": "https://localhost:8080/"
        },
        "id": "hCqUDWsOQAqx",
        "outputId": "69daa8f9-b6d3-4ff3-e81c-d84eb71aa12f"
      },
      "source": [
        "another_dict[\"aws_s3\"]"
      ],
      "execution_count": 42,
      "outputs": [
        {
          "output_type": "execute_result",
          "data": {
            "text/plain": [
              "[6, 7, 8]"
            ]
          },
          "metadata": {},
          "execution_count": 42
        }
      ]
    },
    {
      "cell_type": "code",
      "metadata": {
        "id": "ZNUsSr54QQog"
      },
      "source": [
        "# JSON payloads get converted to Python Dictionaries"
      ],
      "execution_count": 43,
      "outputs": []
    },
    {
      "cell_type": "code",
      "metadata": {
        "id": "2gnYkq0OQYKx"
      },
      "source": [
        ""
      ],
      "execution_count": null,
      "outputs": []
    },
    {
      "cell_type": "markdown",
      "metadata": {
        "id": "TuMYRrWKQcvQ"
      },
      "source": [
        "### Control Structures\n"
      ]
    },
    {
      "cell_type": "markdown",
      "metadata": {
        "id": "qJILBjwzQobc"
      },
      "source": [
        "#### For Loop\n"
      ]
    },
    {
      "cell_type": "code",
      "metadata": {
        "colab": {
          "base_uri": "https://localhost:8080/"
        },
        "id": "VNuQ8YZLQrFJ",
        "outputId": "36b2d30d-70f0-4df9-97f5-e918c439d66e"
      },
      "source": [
        "fruits = [\"apple\", \"pear\", \"avacado\"]\n",
        "for fruit in fruits:\n",
        "  print(f\"A fruit that I enjoy often is a {fruit}\")"
      ],
      "execution_count": 47,
      "outputs": [
        {
          "output_type": "stream",
          "name": "stdout",
          "text": [
            "A fruit that I enjoy often is a apple\n",
            "A fruit that I enjoy often is a pear\n",
            "A fruit that I enjoy often is a avacado\n"
          ]
        }
      ]
    },
    {
      "cell_type": "code",
      "metadata": {
        "colab": {
          "base_uri": "https://localhost:8080/"
        },
        "id": "Ltzno2lFQ7Lc",
        "outputId": "ad439afa-0b97-4c28-ffab-46fb186b19f3"
      },
      "source": [
        "for fruit in fruits:\n",
        "  if fruit == \"apple\":\n",
        "    print(f\"I love this fruit {fruit}\")\n",
        "    break"
      ],
      "execution_count": 48,
      "outputs": [
        {
          "output_type": "stream",
          "name": "stdout",
          "text": [
            "I love this fruit apple\n"
          ]
        }
      ]
    },
    {
      "cell_type": "markdown",
      "metadata": {
        "id": "4CWyjKAbRdCO"
      },
      "source": [
        "#### List comprehension\n"
      ]
    },
    {
      "cell_type": "code",
      "metadata": {
        "id": "0f00CWqURgMX"
      },
      "source": [
        "martial_arts =[\"Sambo\", \"Muay Thia\", \"BJJ\"]\n",
        "new_phrases = [\"\".join(f\"Mixed Martial Arts is influenced by {martial_arts}\") for martial_art in martial_arts]"
      ],
      "execution_count": 49,
      "outputs": []
    },
    {
      "cell_type": "code",
      "metadata": {
        "colab": {
          "base_uri": "https://localhost:8080/"
        },
        "id": "qCS5w7PTSIuT",
        "outputId": "d6172d26-e07c-46ab-fac7-0856e64a2220"
      },
      "source": [
        "new_phrases"
      ],
      "execution_count": 50,
      "outputs": [
        {
          "output_type": "execute_result",
          "data": {
            "text/plain": [
              "[\"Mixed Martial Arts is influenced by ['Sambo', 'Muay Thia', 'BJJ']\",\n",
              " \"Mixed Martial Arts is influenced by ['Sambo', 'Muay Thia', 'BJJ']\",\n",
              " \"Mixed Martial Arts is influenced by ['Sambo', 'Muay Thia', 'BJJ']\"]"
            ]
          },
          "metadata": {},
          "execution_count": 50
        }
      ]
    }
  ]
}