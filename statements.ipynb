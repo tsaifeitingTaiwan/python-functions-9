{
  "nbformat": 4,
  "nbformat_minor": 0,
  "metadata": {
    "colab": {
      "name": "statements.ipynb",
      "provenance": [],
      "authorship_tag": "ABX9TyNtNl6QrAq7E0o/Eq4ucgsR",
      "include_colab_link": true
    },
    "kernelspec": {
      "name": "python3",
      "display_name": "Python 3"
    },
    "language_info": {
      "name": "python"
    }
  },
  "cells": [
    {
      "cell_type": "markdown",
      "metadata": {
        "id": "view-in-github",
        "colab_type": "text"
      },
      "source": [
        "<a href=\"https://colab.research.google.com/github/tsaifeitingTaiwan/python-functions-9/blob/main/statements.ipynb\" target=\"_parent\"><img src=\"https://colab.research.google.com/assets/colab-badge.svg\" alt=\"Open In Colab\"/></a>"
      ]
    },
    {
      "cell_type": "markdown",
      "metadata": {
        "id": "HZ_nonY-IPPY"
      },
      "source": [
        "# Lesson One: Statement"
      ]
    },
    {
      "cell_type": "markdown",
      "metadata": {
        "id": "4oqzA-5QH_VZ"
      },
      "source": [
        "## Statements\n"
      ]
    },
    {
      "cell_type": "code",
      "metadata": {
        "id": "A79Y8d2jIUTu",
        "colab": {
          "base_uri": "https://localhost:8080/"
        },
        "outputId": "1861ee97-0bfe-4d4e-8fa9-027fef22a817"
      },
      "source": [
        "print(\"hello world\")"
      ],
      "execution_count": 2,
      "outputs": [
        {
          "output_type": "stream",
          "name": "stdout",
          "text": [
            "hello world\n"
          ]
        }
      ]
    },
    {
      "cell_type": "markdown",
      "metadata": {
        "id": "QR7awexeILTD"
      },
      "source": [
        ""
      ]
    }
  ]
}